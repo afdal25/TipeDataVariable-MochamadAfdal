{
 "cells": [
  {
   "cell_type": "markdown",
   "id": "35bc695c",
   "metadata": {},
   "source": [
    "<h1>Variabel dan Tipe Data Python</h1><hr>\n",
    "<p>Beberapa aturan pembuatan variabel di <i><b><font color=\"green\">python</font></b></i></p>:\n",
    "\n",
    "<ol>\n",
    "    <li>Bersifat case sensitif => A != a</li>\n",
    "    <li>Harus diawali dengan huruf atau karakter _(underscore)</li>\n",
    "    <li>Tidak boleh menggunakan spasi</li>\n",
    "    <li>Boleh menggunakan angka</li>\n",
    "</ol>"
   ]
  },
  {
   "cell_type": "code",
   "execution_count": 18,
   "id": "bc26a56a",
   "metadata": {},
   "outputs": [
    {
     "name": "stdout",
     "output_type": "stream",
     "text": [
      "10\n",
      "100.9\n",
      "1\n",
      "True\n"
     ]
    }
   ],
   "source": [
    "data_int = 10\n",
    "data_float = 100.9\n",
    "data_string = '1'\n",
    "data_bool = True\n",
    "\n",
    "print(data_int)\n",
    "print(data_float)\n",
    "print(data_string)\n",
    "print(data_bool)"
   ]
  },
  {
   "cell_type": "markdown",
   "id": "a12263ab",
   "metadata": {},
   "source": [
    "Untuk mengetahui Tipe Data dari sebuah variabel gunakan command <b>type</b>"
   ]
  },
  {
   "cell_type": "code",
   "execution_count": 19,
   "id": "1f5c2e53",
   "metadata": {},
   "outputs": [
    {
     "name": "stdout",
     "output_type": "stream",
     "text": [
      "<class 'int'>\n",
      "<class 'str'>\n",
      "<class 'float'>\n",
      "<class 'bool'>\n"
     ]
    }
   ],
   "source": [
    "print(type(data_int))\n",
    "print(type(data_string))\n",
    "print(type(data_float))\n",
    "print(type(data_bool))"
   ]
  },
  {
   "cell_type": "markdown",
   "id": "08bcadb4",
   "metadata": {},
   "source": [
    "pada python terdapat proses <b>CASTING</b> yaitu konversi dari sebuah tipe data ke tipe data yang lain, yaitu dengan sintaks <b>tipe_data(nama_variabel)</b>"
   ]
  },
  {
   "cell_type": "code",
   "execution_count": 23,
   "id": "dbcb6426",
   "metadata": {},
   "outputs": [
    {
     "name": "stdout",
     "output_type": "stream",
     "text": [
      "Nilai variabel data_int 10\n",
      "10.0\n",
      "10\n",
      "True\n"
     ]
    }
   ],
   "source": [
    "int_to_float = float(data_int)\n",
    "int_to_string = str(data_int)\n",
    "int_to_bool = bool(data_int)\n",
    "\n",
    "print(\"Nilai variabel data_int\", data_int)\n",
    "print(int_to_float)\n",
    "print(int_to_string)\n",
    "print(int_to_bool)"
   ]
  },
  {
   "cell_type": "code",
   "execution_count": 25,
   "id": "1c144953",
   "metadata": {},
   "outputs": [
    {
     "name": "stdout",
     "output_type": "stream",
     "text": [
      "Nilai variabel data_str 1\n",
      "1\n",
      "1.0\n",
      "True\n"
     ]
    }
   ],
   "source": [
    "str_to_int = int(data_string)\n",
    "str_to_float = float(data_string)\n",
    "str_to_bool = bool(data_string)\n",
    "\n",
    "print(\"Nilai variabel data_str\", data_string)\n",
    "print(str_to_int)\n",
    "print(str_to_float)\n",
    "print(str_to_bool)"
   ]
  },
  {
   "cell_type": "code",
   "execution_count": 28,
   "id": "2fc8bdc1",
   "metadata": {},
   "outputs": [
    {
     "name": "stdout",
     "output_type": "stream",
     "text": [
      "Nilai variabel data_float 100.9\n",
      "100\n",
      "100.9\n",
      "True\n"
     ]
    }
   ],
   "source": [
    "float_to_int = int(data_float)\n",
    "float_to_str = str(data_float)\n",
    "float_to_bool = bool(data_float)\n",
    "\n",
    "print(\"Nilai variabel data_float\", data_float)\n",
    "print(float_to_int)\n",
    "print(float_to_str)\n",
    "print(float_to_bool)"
   ]
  },
  {
   "cell_type": "code",
   "execution_count": 29,
   "id": "8678cfac",
   "metadata": {},
   "outputs": [
    {
     "name": "stdout",
     "output_type": "stream",
     "text": [
      "Nilai variabel data_bool True\n",
      "1\n",
      "True\n",
      "1.0\n"
     ]
    }
   ],
   "source": [
    "bool_to_int = int(data_bool)\n",
    "bool_to_str = str(data_bool)\n",
    "bool_to_float = float(data_bool)\n",
    "\n",
    "print(\"Nilai variabel data_bool\", data_bool)\n",
    "print(bool_to_int)\n",
    "print(bool_to_str)\n",
    "print(bool_to_float)"
   ]
  },
  {
   "cell_type": "code",
   "execution_count": null,
   "id": "8b254840",
   "metadata": {},
   "outputs": [
    {
     "name": "stdout",
     "output_type": "stream",
     "text": [
      "=====Input Bilangan=====\n"
     ]
    }
   ],
   "source": [
    "print(\"=====Input Bilangan=====\")\n",
    "bil1 = int(input(\"Masukan bilangan 1 : \"))\n",
    "bil2 = int(input(\"Masukan bilangan 2 : \"))\n",
    "hasil_tambah = bil1 + bil2\n",
    "hasil_bagi = bil1 / bil2\n",
    "hasil_perkalian = bil1 * bil2\n",
    "hasil_pengurangan = bil1 - bil2\n",
    "print(\"===Hasil Perhitungan===\")\n",
    "print(\"Hasil penjumlahan =\", hasil_tambah),\n",
    "print(\"Hasil pembagian =\", hasil_bagi)\n",
    "print(\"Hasil perkalian =\", hasil_perkalian)\n",
    "print(\"Hasil pengurangan\", hasil_pengurangan)\n",
    "print(\"===Terima Kasih=====\")"
   ]
  }
 ],
 "metadata": {
  "kernelspec": {
   "display_name": "Python 3 (ipykernel)",
   "language": "python",
   "name": "python3"
  },
  "language_info": {
   "codemirror_mode": {
    "name": "ipython",
    "version": 3
   },
   "file_extension": ".py",
   "mimetype": "text/x-python",
   "name": "python",
   "nbconvert_exporter": "python",
   "pygments_lexer": "ipython3",
   "version": "3.9.12"
  }
 },
 "nbformat": 4,
 "nbformat_minor": 5
}
